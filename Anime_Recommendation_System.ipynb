{
  "nbformat": 4,
  "nbformat_minor": 0,
  "metadata": {
    "colab": {
      "provenance": []
    },
    "kernelspec": {
      "name": "python3",
      "display_name": "Python 3"
    },
    "language_info": {
      "name": "python"
    }
  },
  "cells": [
    {
      "cell_type": "markdown",
      "source": [
        "# 1. Environment Setup"
      ],
      "metadata": {
        "id": "W2PsvxkD_vfp"
      }
    },
    {
      "cell_type": "code",
      "execution_count": null,
      "metadata": {
        "id": "wbqJemCFFoFF"
      },
      "outputs": [],
      "source": [
        "import numpy as np\n",
        "import pandas as pd\n",
        "import tensorflow as tf\n",
        "from tensorflow.keras.layers import Input, Embedding, Flatten, Dot, Dense\n",
        "from tensorflow.keras.models import Model\n",
        "from sklearn.model_selection import train_test_split"
      ]
    },
    {
      "cell_type": "markdown",
      "source": [
        "# 2. Load and Preprocess the Anime Recommendations Database\n"
      ],
      "metadata": {
        "id": "6EVzdjfb_24n"
      }
    },
    {
      "cell_type": "code",
      "source": [
        "ratings = pd.read_csv('/content/rating.csv')\n",
        "ratings.replace({-1: np.nan}, inplace = True)\n",
        "ratings.dropna(inplace = True)"
      ],
      "metadata": {
        "id": "PSA-wE8LFtgm"
      },
      "execution_count": null,
      "outputs": []
    },
    {
      "cell_type": "markdown",
      "source": [
        "# 3. Encode Users and Anime IDs"
      ],
      "metadata": {
        "id": "VOmVrl1g_4PM"
      }
    },
    {
      "cell_type": "code",
      "source": [
        "user_ids = ratings[\"user_id\"].unique().tolist()\n",
        "user2user_encoded = {x: i for i, x in enumerate(user_ids)}\n",
        "userencoded2user = {i: x for i, x in enumerate(user_ids)}\n",
        "anime_ids = ratings[\"anime_id\"].unique().tolist()\n",
        "anime2anime_encoded = {x: i for i, x in enumerate(anime_ids)}\n",
        "anime_encoded2anime = {i: x for i, x in enumerate(anime_ids)}\n",
        "ratings[\"user\"] = ratings[\"user_id\"].map(user2user_encoded)\n",
        "ratings[\"anime\"] = ratings[\"anime_id\"].map(anime2anime_encoded)"
      ],
      "metadata": {
        "id": "tu5thdbsHdmO"
      },
      "execution_count": null,
      "outputs": []
    },
    {
      "cell_type": "markdown",
      "source": [
        "# 4. Split the Data into Training and Testing Sets"
      ],
      "metadata": {
        "id": "Ase2rPfSAGFL"
      }
    },
    {
      "cell_type": "code",
      "source": [
        "num_users = len(user2user_encoded)\n",
        "num_animes = len(anime_encoded2anime)\n",
        "ratings[\"rating\"] = ratings[\"rating\"].values.astype(np.float32)\n",
        "X = ratings[[\"user\", \"anime\"]].values\n",
        "y = ratings[\"rating\"].values\n",
        "X_train, X_test, y_train, y_test = train_test_split(X, y, test_size=0.2, random_state=42)"
      ],
      "metadata": {
        "id": "T2sU9WsqHwBm"
      },
      "execution_count": null,
      "outputs": []
    },
    {
      "cell_type": "code",
      "source": [
        "embedding_size = 50\n",
        "user_input = Input(shape=(1,), name=\"user_input\")\n",
        "user_embedding = Embedding(num_users, embedding_size, name=\"user_embedding\")(user_input)\n",
        "user_vec = Flatten(name=\"flatten_users\")(user_embedding)\n",
        "anime_input = Input(shape=(1,), name=\"anime_input\")\n",
        "anime_embedding = Embedding(num_animes, embedding_size, name=\"anime_embedding\")(anime_input)\n",
        "anime_vec = Flatten(name=\"flatten_animes\")(anime_embedding)\n",
        "dot_product = Dot(name=\"dot_product\", axes=1)([user_vec, anime_vec])\n",
        "model = Model(inputs=[user_input, anime_input], outputs=dot_product)"
      ],
      "metadata": {
        "id": "1lWy5RvdHzQ3"
      },
      "execution_count": null,
      "outputs": []
    },
    {
      "cell_type": "code",
      "source": [
        "model.compile(optimizer='adam', loss='mean_squared_error')\n",
        "history = model.fit([X_train[:, 0], X_train[:, 1]], y_train, batch_size=64, epochs=5, verbose=1, validation_data=([X_test[:, 0], X_test[:, 1]], y_test))"
      ],
      "metadata": {
        "colab": {
          "base_uri": "https://localhost:8080/"
        },
        "id": "2JWpBnNdH3zV",
        "outputId": "49c421d4-0619-4f9f-b0ef-b80edc12b8fe"
      },
      "execution_count": null,
      "outputs": [
        {
          "output_type": "stream",
          "name": "stdout",
          "text": [
            "Epoch 1/5\n",
            "10456/10456 [==============================] - 129s 12ms/step - loss: 18.5850 - val_loss: 3.0086\n",
            "Epoch 2/5\n",
            "10456/10456 [==============================] - 120s 11ms/step - loss: 2.2920 - val_loss: 2.0593\n",
            "Epoch 3/5\n",
            "10456/10456 [==============================] - 120s 11ms/step - loss: 1.7886 - val_loss: 1.8399\n",
            "Epoch 4/5\n",
            "10456/10456 [==============================] - 119s 11ms/step - loss: 1.5842 - val_loss: 1.7175\n",
            "Epoch 5/5\n",
            "10456/10456 [==============================] - 122s 12ms/step - loss: 1.4407 - val_loss: 1.6485\n"
          ]
        }
      ]
    },
    {
      "cell_type": "code",
      "source": [
        "user_id = user_ids[0]\n",
        "user_enc = user2user_encoded[user_id]\n",
        "user_anime_ids = ratings[ratings[\"user_id\"]==user_id][\"anime_id\"].values\n",
        "user_anime_ids = [anime2anime_encoded[x] for x in user_anime_ids]\n",
        "all_anime_ids = list(set(range(num_animes)) - set(user_anime_ids))\n",
        "user_encs = np.array([user_enc] * len(all_anime_ids))\n",
        "all_anime_ids = np.array(all_anime_ids)\n",
        "all_anime_ids = all_anime_ids.reshape(-1, 1)\n",
        "ratings_pred = model.predict([user_encs, all_anime_ids])\n",
        "top_10_indices = ratings_pred.flatten().argsort()[-10:][::-1]\n",
        "recommended_anime_ids = [anime_encoded2anime[x] for x in top_10_indices]\n",
        "print(\"Recommended anime ids:\", recommended_anime_ids)"
      ],
      "metadata": {
        "colab": {
          "base_uri": "https://localhost:8080/"
        },
        "id": "e2aVIQSUH6ZP",
        "outputId": "b733f370-bf1d-4e54-aee0-223b84d4e656"
      },
      "execution_count": null,
      "outputs": [
        {
          "output_type": "stream",
          "name": "stdout",
          "text": [
            "248/248 [==============================] - 1s 2ms/step\n",
            "Recommended anime ids: [25731, 1462, 32438, 10491, 9471, 9041, 2404, 2213, 10016, 3784]\n"
          ]
        }
      ]
    },
    {
      "cell_type": "code",
      "source": [
        "# Make predictions on the test set\n",
        "y_pred = model.predict([X_test[:, 0], X_test[:, 1]])\n",
        "from sklearn.metrics import mean_squared_error\n",
        "# Compute the mean squared error of the predictions\n",
        "mse = mean_squared_error(y_test, y_pred)\n",
        "\n",
        "# Compute the root mean squared error\n",
        "rmse = np.sqrt(mse)\n",
        "\n",
        "print(\"Mean Squared Error:\", mse)\n",
        "print(\"Root Mean Squared Error:\", rmse)"
      ],
      "metadata": {
        "colab": {
          "base_uri": "https://localhost:8080/"
        },
        "id": "KzlGp5XMIB_z",
        "outputId": "f266d388-da76-4335-a21d-749f416d26fb"
      },
      "execution_count": null,
      "outputs": [
        {
          "output_type": "stream",
          "name": "stdout",
          "text": [
            "5228/5228 [==============================] - 10s 2ms/step\n",
            "Mean Squared Error: 1.6484803\n",
            "Root Mean Squared Error: 1.2839316\n"
          ]
        }
      ]
    },
    {
      "cell_type": "code",
      "source": [
        "ratings.info()"
      ],
      "metadata": {
        "colab": {
          "base_uri": "https://localhost:8080/"
        },
        "id": "k2ASrMleNKZs",
        "outputId": "1f38ec6e-d071-4b85-ee18-0e93b6ae4864"
      },
      "execution_count": null,
      "outputs": [
        {
          "output_type": "stream",
          "name": "stdout",
          "text": [
            "<class 'pandas.core.frame.DataFrame'>\n",
            "Int64Index: 836438 entries, 47 to 1026767\n",
            "Data columns (total 5 columns):\n",
            " #   Column    Non-Null Count   Dtype  \n",
            "---  ------    --------------   -----  \n",
            " 0   user_id   836438 non-null  int64  \n",
            " 1   anime_id  836438 non-null  int64  \n",
            " 2   rating    836438 non-null  float32\n",
            " 3   user      836438 non-null  int64  \n",
            " 4   anime     836438 non-null  int64  \n",
            "dtypes: float32(1), int64(4)\n",
            "memory usage: 35.1 MB\n"
          ]
        }
      ]
    },
    {
      "cell_type": "code",
      "source": [],
      "metadata": {
        "id": "JbPmECGyNQWu"
      },
      "execution_count": null,
      "outputs": []
    }
  ]
}